{
 "cells": [
  {
   "cell_type": "code",
   "execution_count": 1,
   "metadata": {},
   "outputs": [
    {
     "name": "stderr",
     "output_type": "stream",
     "text": [
      "C:\\ProgramData\\Anaconda3\\lib\\site-packages\\IPython\\core\\interactiveshell.py:3020: DtypeWarning: Columns (0,1,2,3,4,5,6,7,8,11,13,16,17,18,19,20,21,22,23,24,25,26,27,28,29,30,31,32,33,34,35,36,37,38,39,40,41,42,43,44,45,46,47,48,49,50,51,52,53,54,55,56,57,58,59,60,61,62,63,64,65,66,67,68,69,70,71,72,73,74,75,76,77,78,79,80,81,82,83,84,85,86,87,88,89,90,91,92,93,94,95,96,97,98,99,100,101,102,103,104,105,106,107,108,109,110,111,112,113,114,115,116,117,118,119,120,121,122,123,124,125,126,127,128,129,130,131,132,133,134,135,136,137,138,139,140,141,142,143,144,145,146,147,148,149,150,151,152,153,154,155,156,157,158,159,160,161,162,163,164,165,166,167,168,169,170,171,172,173,174,175,176,177,178,179,180,181,182,183,184,185,186,187,188,189,190,191,192,193,194,195,196,197,198,199,200,201,202,203,204,205,206,207,208,209,210,211,212,213,214,215,216,217,218,219,220,221,222,223,224,225,226,227,228,229,230,231,232,233,234,235,236,237,238,239,240,241,242,243,244,245,246,247,248,249) have mixed types. Specify dtype option on import or set low_memory=False.\n",
      "  interactivity=interactivity, compiler=compiler, result=result)\n"
     ]
    }
   ],
   "source": [
    "import pandas as pd\n",
    "import numpy as np\n",
    "\n",
    "df_echo = pd.read_csv(\"d:/Profiles/hagautam/Desktop/AssinmentAnurag Rai/echonest.csv\")\n",
    "df_echo.drop('Unnamed: 0',inplace=True,axis=1)\n",
    "df_echo.drop([0,1,2],inplace=True,axis=0)\n",
    "df_echo.reset_index(inplace=True)\n",
    "df_echo.drop(\"index\",inplace=True,axis=1)"
   ]
  },
  {
   "cell_type": "code",
   "execution_count": 2,
   "metadata": {},
   "outputs": [
    {
     "name": "stdout",
     "output_type": "stream",
     "text": [
      "<class 'pandas.core.frame.DataFrame'>\n",
      "RangeIndex: 13129 entries, 0 to 13128\n",
      "Columns: 249 entries, echonest to echonest.248\n",
      "dtypes: object(249)\n",
      "memory usage: 24.9+ MB\n"
     ]
    }
   ],
   "source": [
    "df_echo.info()"
   ]
  },
  {
   "cell_type": "code",
   "execution_count": 3,
   "metadata": {},
   "outputs": [
    {
     "name": "stdout",
     "output_type": "stream",
     "text": [
      "Merge Sort Time:0:00:00.113012\n"
     ]
    }
   ],
   "source": [
    "import datetime\n",
    "df_echo[\"echonest.248\"] = df_echo[\"echonest.248\"].astype(float)\n",
    "time = datetime.datetime.now()\n",
    "df_echo.sort_values('echonest.248',kind=\"mergesort\")\n",
    "print(\"Merge Sort Time:\" + str(datetime.datetime.now() - time))"
   ]
  },
  {
   "cell_type": "code",
   "execution_count": 4,
   "metadata": {},
   "outputs": [
    {
     "name": "stdout",
     "output_type": "stream",
     "text": [
      "Quick Sort Time:0:00:00.118012\n"
     ]
    }
   ],
   "source": [
    "time = datetime.datetime.now()\n",
    "df_echo.sort_values('echonest.248',kind=\"quicksort\")\n",
    "print(\"Quick Sort Time:\" + str(datetime.datetime.now() - time))"
   ]
  },
  {
   "cell_type": "code",
   "execution_count": 5,
   "metadata": {},
   "outputs": [
    {
     "name": "stdout",
     "output_type": "stream",
     "text": [
      "Selection Sort Time:0:00:31.611161\n"
     ]
    }
   ],
   "source": [
    "time = datetime.datetime.now()\n",
    "arr = df_echo[\"echonest.248\"].tolist() # array not sorted\n",
    "for i in range(len(arr)):\n",
    "    for j in range(i, len(arr)):\n",
    "        if(arr[i] > arr[j]):\n",
    "            arr[i], arr[j] = arr[j], arr[i]\n",
    "\n",
    "print(\"Selection Sort Time:\" + str(datetime.datetime.now() - time))"
   ]
  }
 ],
 "metadata": {
  "kernelspec": {
   "display_name": "Python 3",
   "language": "python",
   "name": "python3"
  },
  "language_info": {
   "codemirror_mode": {
    "name": "ipython",
    "version": 3
   },
   "file_extension": ".py",
   "mimetype": "text/x-python",
   "name": "python",
   "nbconvert_exporter": "python",
   "pygments_lexer": "ipython3",
   "version": "3.6.7"
  }
 },
 "nbformat": 4,
 "nbformat_minor": 2
}
